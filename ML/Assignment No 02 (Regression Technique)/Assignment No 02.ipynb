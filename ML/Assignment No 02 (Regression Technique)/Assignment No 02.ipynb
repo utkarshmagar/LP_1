{
 "cells": [
  {
   "cell_type": "code",
   "execution_count": 139,
   "metadata": {},
   "outputs": [],
   "source": [
    "import pandas as pd\n",
    "import numpy as np\n",
    "import seaborn as sns\n",
    "from matplotlib import pyplot as plt\n",
    "%matplotlib inline"
   ]
  },
  {
   "cell_type": "code",
   "execution_count": 140,
   "metadata": {},
   "outputs": [
    {
     "data": {
      "text/html": [
       "<div>\n",
       "<style scoped>\n",
       "    .dataframe tbody tr th:only-of-type {\n",
       "        vertical-align: middle;\n",
       "    }\n",
       "\n",
       "    .dataframe tbody tr th {\n",
       "        vertical-align: top;\n",
       "    }\n",
       "\n",
       "    .dataframe thead th {\n",
       "        text-align: right;\n",
       "    }\n",
       "</style>\n",
       "<table border=\"1\" class=\"dataframe\">\n",
       "  <thead>\n",
       "    <tr style=\"text-align: right;\">\n",
       "      <th></th>\n",
       "      <th>YEAR</th>\n",
       "      <th>JAN</th>\n",
       "      <th>FEB</th>\n",
       "      <th>MAR</th>\n",
       "      <th>APR</th>\n",
       "      <th>MAY</th>\n",
       "      <th>JUN</th>\n",
       "      <th>JUL</th>\n",
       "      <th>AUG</th>\n",
       "      <th>SEP</th>\n",
       "      <th>OCT</th>\n",
       "      <th>NOV</th>\n",
       "      <th>DEC</th>\n",
       "      <th>ANNUAL</th>\n",
       "      <th>JAN-FEB</th>\n",
       "      <th>MAR-MAY</th>\n",
       "      <th>JUN-SEP</th>\n",
       "      <th>OCT-DEC</th>\n",
       "    </tr>\n",
       "  </thead>\n",
       "  <tbody>\n",
       "    <tr>\n",
       "      <th>0</th>\n",
       "      <td>1901</td>\n",
       "      <td>22.40</td>\n",
       "      <td>24.14</td>\n",
       "      <td>29.07</td>\n",
       "      <td>31.91</td>\n",
       "      <td>33.41</td>\n",
       "      <td>33.18</td>\n",
       "      <td>31.21</td>\n",
       "      <td>30.39</td>\n",
       "      <td>30.47</td>\n",
       "      <td>29.97</td>\n",
       "      <td>27.31</td>\n",
       "      <td>24.49</td>\n",
       "      <td>28.96</td>\n",
       "      <td>23.27</td>\n",
       "      <td>31.46</td>\n",
       "      <td>31.27</td>\n",
       "      <td>27.25</td>\n",
       "    </tr>\n",
       "    <tr>\n",
       "      <th>1</th>\n",
       "      <td>1902</td>\n",
       "      <td>24.93</td>\n",
       "      <td>26.58</td>\n",
       "      <td>29.77</td>\n",
       "      <td>31.78</td>\n",
       "      <td>33.73</td>\n",
       "      <td>32.91</td>\n",
       "      <td>30.92</td>\n",
       "      <td>30.73</td>\n",
       "      <td>29.80</td>\n",
       "      <td>29.12</td>\n",
       "      <td>26.31</td>\n",
       "      <td>24.04</td>\n",
       "      <td>29.22</td>\n",
       "      <td>25.75</td>\n",
       "      <td>31.76</td>\n",
       "      <td>31.09</td>\n",
       "      <td>26.49</td>\n",
       "    </tr>\n",
       "    <tr>\n",
       "      <th>2</th>\n",
       "      <td>1903</td>\n",
       "      <td>23.44</td>\n",
       "      <td>25.03</td>\n",
       "      <td>27.83</td>\n",
       "      <td>31.39</td>\n",
       "      <td>32.91</td>\n",
       "      <td>33.00</td>\n",
       "      <td>31.34</td>\n",
       "      <td>29.98</td>\n",
       "      <td>29.85</td>\n",
       "      <td>29.04</td>\n",
       "      <td>26.08</td>\n",
       "      <td>23.65</td>\n",
       "      <td>28.47</td>\n",
       "      <td>24.24</td>\n",
       "      <td>30.71</td>\n",
       "      <td>30.92</td>\n",
       "      <td>26.26</td>\n",
       "    </tr>\n",
       "    <tr>\n",
       "      <th>3</th>\n",
       "      <td>1904</td>\n",
       "      <td>22.50</td>\n",
       "      <td>24.73</td>\n",
       "      <td>28.21</td>\n",
       "      <td>32.02</td>\n",
       "      <td>32.64</td>\n",
       "      <td>32.07</td>\n",
       "      <td>30.36</td>\n",
       "      <td>30.09</td>\n",
       "      <td>30.04</td>\n",
       "      <td>29.20</td>\n",
       "      <td>26.36</td>\n",
       "      <td>23.63</td>\n",
       "      <td>28.49</td>\n",
       "      <td>23.62</td>\n",
       "      <td>30.95</td>\n",
       "      <td>30.66</td>\n",
       "      <td>26.40</td>\n",
       "    </tr>\n",
       "    <tr>\n",
       "      <th>4</th>\n",
       "      <td>1905</td>\n",
       "      <td>22.00</td>\n",
       "      <td>22.83</td>\n",
       "      <td>26.68</td>\n",
       "      <td>30.01</td>\n",
       "      <td>33.32</td>\n",
       "      <td>33.25</td>\n",
       "      <td>31.44</td>\n",
       "      <td>30.68</td>\n",
       "      <td>30.12</td>\n",
       "      <td>30.67</td>\n",
       "      <td>27.52</td>\n",
       "      <td>23.82</td>\n",
       "      <td>28.30</td>\n",
       "      <td>22.25</td>\n",
       "      <td>30.00</td>\n",
       "      <td>31.33</td>\n",
       "      <td>26.57</td>\n",
       "    </tr>\n",
       "    <tr>\n",
       "      <th>...</th>\n",
       "      <td>...</td>\n",
       "      <td>...</td>\n",
       "      <td>...</td>\n",
       "      <td>...</td>\n",
       "      <td>...</td>\n",
       "      <td>...</td>\n",
       "      <td>...</td>\n",
       "      <td>...</td>\n",
       "      <td>...</td>\n",
       "      <td>...</td>\n",
       "      <td>...</td>\n",
       "      <td>...</td>\n",
       "      <td>...</td>\n",
       "      <td>...</td>\n",
       "      <td>...</td>\n",
       "      <td>...</td>\n",
       "      <td>...</td>\n",
       "      <td>...</td>\n",
       "    </tr>\n",
       "    <tr>\n",
       "      <th>112</th>\n",
       "      <td>2013</td>\n",
       "      <td>24.56</td>\n",
       "      <td>26.59</td>\n",
       "      <td>30.62</td>\n",
       "      <td>32.66</td>\n",
       "      <td>34.46</td>\n",
       "      <td>32.44</td>\n",
       "      <td>31.07</td>\n",
       "      <td>30.76</td>\n",
       "      <td>31.04</td>\n",
       "      <td>30.27</td>\n",
       "      <td>27.83</td>\n",
       "      <td>25.37</td>\n",
       "      <td>29.81</td>\n",
       "      <td>25.58</td>\n",
       "      <td>32.58</td>\n",
       "      <td>31.33</td>\n",
       "      <td>27.83</td>\n",
       "    </tr>\n",
       "    <tr>\n",
       "      <th>113</th>\n",
       "      <td>2014</td>\n",
       "      <td>23.83</td>\n",
       "      <td>25.97</td>\n",
       "      <td>28.95</td>\n",
       "      <td>32.74</td>\n",
       "      <td>33.77</td>\n",
       "      <td>34.15</td>\n",
       "      <td>31.85</td>\n",
       "      <td>31.32</td>\n",
       "      <td>30.68</td>\n",
       "      <td>30.29</td>\n",
       "      <td>28.05</td>\n",
       "      <td>25.08</td>\n",
       "      <td>29.72</td>\n",
       "      <td>24.90</td>\n",
       "      <td>31.82</td>\n",
       "      <td>32.00</td>\n",
       "      <td>27.81</td>\n",
       "    </tr>\n",
       "    <tr>\n",
       "      <th>114</th>\n",
       "      <td>2015</td>\n",
       "      <td>24.58</td>\n",
       "      <td>26.89</td>\n",
       "      <td>29.07</td>\n",
       "      <td>31.87</td>\n",
       "      <td>34.09</td>\n",
       "      <td>32.48</td>\n",
       "      <td>31.88</td>\n",
       "      <td>31.52</td>\n",
       "      <td>31.55</td>\n",
       "      <td>31.04</td>\n",
       "      <td>28.10</td>\n",
       "      <td>25.67</td>\n",
       "      <td>29.90</td>\n",
       "      <td>25.74</td>\n",
       "      <td>31.68</td>\n",
       "      <td>31.87</td>\n",
       "      <td>28.27</td>\n",
       "    </tr>\n",
       "    <tr>\n",
       "      <th>115</th>\n",
       "      <td>2016</td>\n",
       "      <td>26.94</td>\n",
       "      <td>29.72</td>\n",
       "      <td>32.62</td>\n",
       "      <td>35.38</td>\n",
       "      <td>35.72</td>\n",
       "      <td>34.03</td>\n",
       "      <td>31.64</td>\n",
       "      <td>31.79</td>\n",
       "      <td>31.66</td>\n",
       "      <td>31.98</td>\n",
       "      <td>30.11</td>\n",
       "      <td>28.01</td>\n",
       "      <td>31.63</td>\n",
       "      <td>28.33</td>\n",
       "      <td>34.57</td>\n",
       "      <td>32.28</td>\n",
       "      <td>30.03</td>\n",
       "    </tr>\n",
       "    <tr>\n",
       "      <th>116</th>\n",
       "      <td>2017</td>\n",
       "      <td>26.45</td>\n",
       "      <td>29.46</td>\n",
       "      <td>31.60</td>\n",
       "      <td>34.95</td>\n",
       "      <td>35.84</td>\n",
       "      <td>33.82</td>\n",
       "      <td>31.88</td>\n",
       "      <td>31.72</td>\n",
       "      <td>32.22</td>\n",
       "      <td>32.29</td>\n",
       "      <td>29.60</td>\n",
       "      <td>27.18</td>\n",
       "      <td>31.42</td>\n",
       "      <td>27.95</td>\n",
       "      <td>34.13</td>\n",
       "      <td>32.41</td>\n",
       "      <td>29.69</td>\n",
       "    </tr>\n",
       "  </tbody>\n",
       "</table>\n",
       "<p>117 rows × 18 columns</p>\n",
       "</div>"
      ],
      "text/plain": [
       "     YEAR    JAN    FEB    MAR    APR    MAY    JUN    JUL    AUG    SEP  \\\n",
       "0    1901  22.40  24.14  29.07  31.91  33.41  33.18  31.21  30.39  30.47   \n",
       "1    1902  24.93  26.58  29.77  31.78  33.73  32.91  30.92  30.73  29.80   \n",
       "2    1903  23.44  25.03  27.83  31.39  32.91  33.00  31.34  29.98  29.85   \n",
       "3    1904  22.50  24.73  28.21  32.02  32.64  32.07  30.36  30.09  30.04   \n",
       "4    1905  22.00  22.83  26.68  30.01  33.32  33.25  31.44  30.68  30.12   \n",
       "..    ...    ...    ...    ...    ...    ...    ...    ...    ...    ...   \n",
       "112  2013  24.56  26.59  30.62  32.66  34.46  32.44  31.07  30.76  31.04   \n",
       "113  2014  23.83  25.97  28.95  32.74  33.77  34.15  31.85  31.32  30.68   \n",
       "114  2015  24.58  26.89  29.07  31.87  34.09  32.48  31.88  31.52  31.55   \n",
       "115  2016  26.94  29.72  32.62  35.38  35.72  34.03  31.64  31.79  31.66   \n",
       "116  2017  26.45  29.46  31.60  34.95  35.84  33.82  31.88  31.72  32.22   \n",
       "\n",
       "       OCT    NOV    DEC  ANNUAL  JAN-FEB  MAR-MAY  JUN-SEP  OCT-DEC  \n",
       "0    29.97  27.31  24.49   28.96    23.27    31.46    31.27    27.25  \n",
       "1    29.12  26.31  24.04   29.22    25.75    31.76    31.09    26.49  \n",
       "2    29.04  26.08  23.65   28.47    24.24    30.71    30.92    26.26  \n",
       "3    29.20  26.36  23.63   28.49    23.62    30.95    30.66    26.40  \n",
       "4    30.67  27.52  23.82   28.30    22.25    30.00    31.33    26.57  \n",
       "..     ...    ...    ...     ...      ...      ...      ...      ...  \n",
       "112  30.27  27.83  25.37   29.81    25.58    32.58    31.33    27.83  \n",
       "113  30.29  28.05  25.08   29.72    24.90    31.82    32.00    27.81  \n",
       "114  31.04  28.10  25.67   29.90    25.74    31.68    31.87    28.27  \n",
       "115  31.98  30.11  28.01   31.63    28.33    34.57    32.28    30.03  \n",
       "116  32.29  29.60  27.18   31.42    27.95    34.13    32.41    29.69  \n",
       "\n",
       "[117 rows x 18 columns]"
      ]
     },
     "execution_count": 140,
     "metadata": {},
     "output_type": "execute_result"
    }
   ],
   "source": [
    "df = pd.read_csv('temperatures.csv')\n",
    "df"
   ]
  },
  {
   "cell_type": "code",
   "execution_count": 141,
   "metadata": {},
   "outputs": [
    {
     "data": {
      "image/png": "[encoded data removed]",
      "text/plain": [
       "<Figure size 432x288 with 1 Axes>"
      ]
     },
     "metadata": {
      "needs_background": "light"
     },
     "output_type": "display_data"
    }
   ],
   "source": [
    "plt.plot(df['YEAR'], df['ANNUAL']);"
   ]
  },
  {
   "cell_type": "code",
   "execution_count": 142,
   "metadata": {},
   "outputs": [
    {
     "name": "stdout",
     "output_type": "stream",
     "text": [
      "<class 'pandas.core.frame.DataFrame'>\n",
      "RangeIndex: 117 entries, 0 to 116\n",
      "Data columns (total 18 columns):\n",
      " #   Column   Non-Null Count  Dtype  \n",
      "---  ------   --------------  -----  \n",
      " 0   YEAR     117 non-null    int64  \n",
      " 1   JAN      117 non-null    float64\n",
      " 2   FEB      117 non-null    float64\n",
      " 3   MAR      117 non-null    float64\n",
      " 4   APR      117 non-null    float64\n",
      " 5   MAY      117 non-null    float64\n",
      " 6   JUN      117 non-null    float64\n",
      " 7   JUL      117 non-null    float64\n",
      " 8   AUG      117 non-null    float64\n",
      " 9   SEP      117 non-null    float64\n",
      " 10  OCT      117 non-null    float64\n",
      " 11  NOV      117 non-null    float64\n",
      " 12  DEC      117 non-null    float64\n",
      " 13  ANNUAL   117 non-null    float64\n",
      " 14  JAN-FEB  117 non-null    float64\n",
      " 15  MAR-MAY  117 non-null    float64\n",
      " 16  JUN-SEP  117 non-null    float64\n",
      " 17  OCT-DEC  117 non-null    float64\n",
      "dtypes: float64(17), int64(1)\n",
      "memory usage: 16.6 KB\n"
     ]
    }
   ],
   "source": [
    "df.info();"
   ]
  },
  {
   "cell_type": "code",
   "execution_count": 143,
   "metadata": {},
   "outputs": [
    {
     "data": {
      "image/png": "[encoded data removed]",
      "text/plain": [
       "<Figure size 432x288 with 1 Axes>"
      ]
     },
     "metadata": {
      "needs_background": "light"
     },
     "output_type": "display_data"
    }
   ],
   "source": [
    "plt.plot(df['YEAR'], df['DEC'])\n",
    "plt.show()"
   ]
  },
  {
   "cell_type": "code",
   "execution_count": 144,
   "metadata": {},
   "outputs": [
    {
     "data": {
      "text/html": [
       "<div>\n",
       "<style scoped>\n",
       "    .dataframe tbody tr th:only-of-type {\n",
       "        vertical-align: middle;\n",
       "    }\n",
       "\n",
       "    .dataframe tbody tr th {\n",
       "        vertical-align: top;\n",
       "    }\n",
       "\n",
       "    .dataframe thead th {\n",
       "        text-align: right;\n",
       "    }\n",
       "</style>\n",
       "<table border=\"1\" class=\"dataframe\">\n",
       "  <thead>\n",
       "    <tr style=\"text-align: right;\">\n",
       "      <th></th>\n",
       "      <th>YEAR</th>\n",
       "      <th>JAN</th>\n",
       "      <th>FEB</th>\n",
       "      <th>MAR</th>\n",
       "      <th>APR</th>\n",
       "      <th>MAY</th>\n",
       "      <th>JUN</th>\n",
       "      <th>JUL</th>\n",
       "      <th>AUG</th>\n",
       "      <th>SEP</th>\n",
       "      <th>OCT</th>\n",
       "      <th>NOV</th>\n",
       "      <th>DEC</th>\n",
       "      <th>ANNUAL</th>\n",
       "      <th>JAN-FEB</th>\n",
       "      <th>MAR-MAY</th>\n",
       "      <th>JUN-SEP</th>\n",
       "      <th>OCT-DEC</th>\n",
       "    </tr>\n",
       "  </thead>\n",
       "  <tbody>\n",
       "    <tr>\n",
       "      <th>YEAR</th>\n",
       "      <td>1.000000</td>\n",
       "      <td>0.575499</td>\n",
       "      <td>0.647066</td>\n",
       "      <td>0.553886</td>\n",
       "      <td>0.540662</td>\n",
       "      <td>0.407648</td>\n",
       "      <td>0.371840</td>\n",
       "      <td>0.478512</td>\n",
       "      <td>0.654138</td>\n",
       "      <td>0.664008</td>\n",
       "      <td>0.589073</td>\n",
       "      <td>0.697887</td>\n",
       "      <td>0.732222</td>\n",
       "      <td>0.801129</td>\n",
       "      <td>0.679869</td>\n",
       "      <td>0.640438</td>\n",
       "      <td>0.677061</td>\n",
       "      <td>0.749792</td>\n",
       "    </tr>\n",
       "    <tr>\n",
       "      <th>JAN</th>\n",
       "      <td>0.575499</td>\n",
       "      <td>1.000000</td>\n",
       "      <td>0.647017</td>\n",
       "      <td>0.457081</td>\n",
       "      <td>0.594674</td>\n",
       "      <td>0.365236</td>\n",
       "      <td>0.292855</td>\n",
       "      <td>0.339337</td>\n",
       "      <td>0.459944</td>\n",
       "      <td>0.499764</td>\n",
       "      <td>0.480695</td>\n",
       "      <td>0.526615</td>\n",
       "      <td>0.595902</td>\n",
       "      <td>0.749880</td>\n",
       "      <td>0.874226</td>\n",
       "      <td>0.575734</td>\n",
       "      <td>0.496515</td>\n",
       "      <td>0.607752</td>\n",
       "    </tr>\n",
       "    <tr>\n",
       "      <th>FEB</th>\n",
       "      <td>0.647066</td>\n",
       "      <td>0.647017</td>\n",
       "      <td>1.000000</td>\n",
       "      <td>0.589088</td>\n",
       "      <td>0.548803</td>\n",
       "      <td>0.377722</td>\n",
       "      <td>0.341302</td>\n",
       "      <td>0.418956</td>\n",
       "      <td>0.503188</td>\n",
       "      <td>0.472755</td>\n",
       "      <td>0.466916</td>\n",
       "      <td>0.519595</td>\n",
       "      <td>0.619320</td>\n",
       "      <td>0.792541</td>\n",
       "      <td>0.928731</td>\n",
       "      <td>0.635904</td>\n",
       "      <td>0.544527</td>\n",
       "      <td>0.609839</td>\n",
       "    </tr>\n",
       "    <tr>\n",
       "      <th>MAR</th>\n",
       "      <td>0.553886</td>\n",
       "      <td>0.457081</td>\n",
       "      <td>0.589088</td>\n",
       "      <td>1.000000</td>\n",
       "      <td>0.618621</td>\n",
       "      <td>0.387756</td>\n",
       "      <td>0.228349</td>\n",
       "      <td>0.232647</td>\n",
       "      <td>0.382344</td>\n",
       "      <td>0.370066</td>\n",
       "      <td>0.312226</td>\n",
       "      <td>0.498202</td>\n",
       "      <td>0.523316</td>\n",
       "      <td>0.689205</td>\n",
       "      <td>0.584612</td>\n",
       "      <td>0.848637</td>\n",
       "      <td>0.380640</td>\n",
       "      <td>0.505879</td>\n",
       "    </tr>\n",
       "    <tr>\n",
       "      <th>APR</th>\n",
       "      <td>0.540662</td>\n",
       "      <td>0.594674</td>\n",
       "      <td>0.548803</td>\n",
       "      <td>0.618621</td>\n",
       "      <td>1.000000</td>\n",
       "      <td>0.563317</td>\n",
       "      <td>0.299866</td>\n",
       "      <td>0.286052</td>\n",
       "      <td>0.490668</td>\n",
       "      <td>0.437970</td>\n",
       "      <td>0.473873</td>\n",
       "      <td>0.538037</td>\n",
       "      <td>0.579775</td>\n",
       "      <td>0.770596</td>\n",
       "      <td>0.643942</td>\n",
       "      <td>0.878402</td>\n",
       "      <td>0.474542</td>\n",
       "      <td>0.596943</td>\n",
       "    </tr>\n",
       "    <tr>\n",
       "      <th>MAY</th>\n",
       "      <td>0.407648</td>\n",
       "      <td>0.365236</td>\n",
       "      <td>0.377722</td>\n",
       "      <td>0.387756</td>\n",
       "      <td>0.563317</td>\n",
       "      <td>1.000000</td>\n",
       "      <td>0.274521</td>\n",
       "      <td>0.299072</td>\n",
       "      <td>0.473171</td>\n",
       "      <td>0.347289</td>\n",
       "      <td>0.468993</td>\n",
       "      <td>0.482822</td>\n",
       "      <td>0.444695</td>\n",
       "      <td>0.609015</td>\n",
       "      <td>0.403316</td>\n",
       "      <td>0.708221</td>\n",
       "      <td>0.431314</td>\n",
       "      <td>0.503445</td>\n",
       "    </tr>\n",
       "    <tr>\n",
       "      <th>JUN</th>\n",
       "      <td>0.371840</td>\n",
       "      <td>0.292855</td>\n",
       "      <td>0.341302</td>\n",
       "      <td>0.228349</td>\n",
       "      <td>0.299866</td>\n",
       "      <td>0.274521</td>\n",
       "      <td>1.000000</td>\n",
       "      <td>0.480925</td>\n",
       "      <td>0.504354</td>\n",
       "      <td>0.305761</td>\n",
       "      <td>0.380782</td>\n",
       "      <td>0.419968</td>\n",
       "      <td>0.366242</td>\n",
       "      <td>0.520189</td>\n",
       "      <td>0.351115</td>\n",
       "      <td>0.341301</td>\n",
       "      <td>0.749132</td>\n",
       "      <td>0.409325</td>\n",
       "    </tr>\n",
       "    <tr>\n",
       "      <th>JUL</th>\n",
       "      <td>0.478512</td>\n",
       "      <td>0.339337</td>\n",
       "      <td>0.418956</td>\n",
       "      <td>0.232647</td>\n",
       "      <td>0.286052</td>\n",
       "      <td>0.299072</td>\n",
       "      <td>0.480925</td>\n",
       "      <td>1.000000</td>\n",
       "      <td>0.622985</td>\n",
       "      <td>0.531865</td>\n",
       "      <td>0.568341</td>\n",
       "      <td>0.535413</td>\n",
       "      <td>0.440813</td>\n",
       "      <td>0.588454</td>\n",
       "      <td>0.423876</td>\n",
       "      <td>0.321388</td>\n",
       "      <td>0.799602</td>\n",
       "      <td>0.541023</td>\n",
       "    </tr>\n",
       "    <tr>\n",
       "      <th>AUG</th>\n",
       "      <td>0.654138</td>\n",
       "      <td>0.459944</td>\n",
       "      <td>0.503188</td>\n",
       "      <td>0.382344</td>\n",
       "      <td>0.490668</td>\n",
       "      <td>0.473171</td>\n",
       "      <td>0.504354</td>\n",
       "      <td>0.622985</td>\n",
       "      <td>1.000000</td>\n",
       "      <td>0.680212</td>\n",
       "      <td>0.661177</td>\n",
       "      <td>0.588961</td>\n",
       "      <td>0.595330</td>\n",
       "      <td>0.755384</td>\n",
       "      <td>0.534818</td>\n",
       "      <td>0.560118</td>\n",
       "      <td>0.866202</td>\n",
       "      <td>0.665040</td>\n",
       "    </tr>\n",
       "    <tr>\n",
       "      <th>SEP</th>\n",
       "      <td>0.664008</td>\n",
       "      <td>0.499764</td>\n",
       "      <td>0.472755</td>\n",
       "      <td>0.370066</td>\n",
       "      <td>0.437970</td>\n",
       "      <td>0.347289</td>\n",
       "      <td>0.305761</td>\n",
       "      <td>0.531865</td>\n",
       "      <td>0.680212</td>\n",
       "      <td>1.000000</td>\n",
       "      <td>0.680744</td>\n",
       "      <td>0.683866</td>\n",
       "      <td>0.629223</td>\n",
       "      <td>0.730756</td>\n",
       "      <td>0.529533</td>\n",
       "      <td>0.485397</td>\n",
       "      <td>0.778875</td>\n",
       "      <td>0.734650</td>\n",
       "    </tr>\n",
       "    <tr>\n",
       "      <th>OCT</th>\n",
       "      <td>0.589073</td>\n",
       "      <td>0.480695</td>\n",
       "      <td>0.466916</td>\n",
       "      <td>0.312226</td>\n",
       "      <td>0.473873</td>\n",
       "      <td>0.468993</td>\n",
       "      <td>0.380782</td>\n",
       "      <td>0.568341</td>\n",
       "      <td>0.661177</td>\n",
       "      <td>0.680744</td>\n",
       "      <td>1.000000</td>\n",
       "      <td>0.770277</td>\n",
       "      <td>0.719305</td>\n",
       "      <td>0.768170</td>\n",
       "      <td>0.506640</td>\n",
       "      <td>0.522917</td>\n",
       "      <td>0.705733</td>\n",
       "      <td>0.888144</td>\n",
       "    </tr>\n",
       "    <tr>\n",
       "      <th>NOV</th>\n",
       "      <td>0.697887</td>\n",
       "      <td>0.526615</td>\n",
       "      <td>0.519595</td>\n",
       "      <td>0.498202</td>\n",
       "      <td>0.538037</td>\n",
       "      <td>0.482822</td>\n",
       "      <td>0.419968</td>\n",
       "      <td>0.535413</td>\n",
       "      <td>0.588961</td>\n",
       "      <td>0.683866</td>\n",
       "      <td>0.770277</td>\n",
       "      <td>1.000000</td>\n",
       "      <td>0.782075</td>\n",
       "      <td>0.812868</td>\n",
       "      <td>0.568893</td>\n",
       "      <td>0.620161</td>\n",
       "      <td>0.692585</td>\n",
       "      <td>0.913522</td>\n",
       "    </tr>\n",
       "    <tr>\n",
       "      <th>DEC</th>\n",
       "      <td>0.732222</td>\n",
       "      <td>0.595902</td>\n",
       "      <td>0.619320</td>\n",
       "      <td>0.523316</td>\n",
       "      <td>0.579775</td>\n",
       "      <td>0.444695</td>\n",
       "      <td>0.366242</td>\n",
       "      <td>0.440813</td>\n",
       "      <td>0.595330</td>\n",
       "      <td>0.629223</td>\n",
       "      <td>0.719305</td>\n",
       "      <td>0.782075</td>\n",
       "      <td>1.000000</td>\n",
       "      <td>0.843660</td>\n",
       "      <td>0.663719</td>\n",
       "      <td>0.643015</td>\n",
       "      <td>0.634747</td>\n",
       "      <td>0.922692</td>\n",
       "    </tr>\n",
       "    <tr>\n",
       "      <th>ANNUAL</th>\n",
       "      <td>0.801129</td>\n",
       "      <td>0.749880</td>\n",
       "      <td>0.792541</td>\n",
       "      <td>0.689205</td>\n",
       "      <td>0.770596</td>\n",
       "      <td>0.609015</td>\n",
       "      <td>0.520189</td>\n",
       "      <td>0.588454</td>\n",
       "      <td>0.755384</td>\n",
       "      <td>0.730756</td>\n",
       "      <td>0.768170</td>\n",
       "      <td>0.812868</td>\n",
       "      <td>0.843660</td>\n",
       "      <td>1.000000</td>\n",
       "      <td>0.849828</td>\n",
       "      <td>0.853277</td>\n",
       "      <td>0.810786</td>\n",
       "      <td>0.897046</td>\n",
       "    </tr>\n",
       "    <tr>\n",
       "      <th>JAN-FEB</th>\n",
       "      <td>0.679869</td>\n",
       "      <td>0.874226</td>\n",
       "      <td>0.928731</td>\n",
       "      <td>0.584612</td>\n",
       "      <td>0.643942</td>\n",
       "      <td>0.403316</td>\n",
       "      <td>0.351115</td>\n",
       "      <td>0.423876</td>\n",
       "      <td>0.534818</td>\n",
       "      <td>0.529533</td>\n",
       "      <td>0.506640</td>\n",
       "      <td>0.568893</td>\n",
       "      <td>0.663719</td>\n",
       "      <td>0.849828</td>\n",
       "      <td>1.000000</td>\n",
       "      <td>0.675918</td>\n",
       "      <td>0.575513</td>\n",
       "      <td>0.661805</td>\n",
       "    </tr>\n",
       "    <tr>\n",
       "      <th>MAR-MAY</th>\n",
       "      <td>0.640438</td>\n",
       "      <td>0.575734</td>\n",
       "      <td>0.635904</td>\n",
       "      <td>0.848637</td>\n",
       "      <td>0.878402</td>\n",
       "      <td>0.708221</td>\n",
       "      <td>0.341301</td>\n",
       "      <td>0.321388</td>\n",
       "      <td>0.560118</td>\n",
       "      <td>0.485397</td>\n",
       "      <td>0.522917</td>\n",
       "      <td>0.620161</td>\n",
       "      <td>0.643015</td>\n",
       "      <td>0.853277</td>\n",
       "      <td>0.675918</td>\n",
       "      <td>1.000000</td>\n",
       "      <td>0.534279</td>\n",
       "      <td>0.664773</td>\n",
       "    </tr>\n",
       "    <tr>\n",
       "      <th>JUN-SEP</th>\n",
       "      <td>0.677061</td>\n",
       "      <td>0.496515</td>\n",
       "      <td>0.544527</td>\n",
       "      <td>0.380640</td>\n",
       "      <td>0.474542</td>\n",
       "      <td>0.431314</td>\n",
       "      <td>0.749132</td>\n",
       "      <td>0.799602</td>\n",
       "      <td>0.866202</td>\n",
       "      <td>0.778875</td>\n",
       "      <td>0.705733</td>\n",
       "      <td>0.692585</td>\n",
       "      <td>0.634747</td>\n",
       "      <td>0.810786</td>\n",
       "      <td>0.575513</td>\n",
       "      <td>0.534279</td>\n",
       "      <td>1.000000</td>\n",
       "      <td>0.730397</td>\n",
       "    </tr>\n",
       "    <tr>\n",
       "      <th>OCT-DEC</th>\n",
       "      <td>0.749792</td>\n",
       "      <td>0.607752</td>\n",
       "      <td>0.609839</td>\n",
       "      <td>0.505879</td>\n",
       "      <td>0.596943</td>\n",
       "      <td>0.503445</td>\n",
       "      <td>0.409325</td>\n",
       "      <td>0.541023</td>\n",
       "      <td>0.665040</td>\n",
       "      <td>0.734650</td>\n",
       "      <td>0.888144</td>\n",
       "      <td>0.913522</td>\n",
       "      <td>0.922692</td>\n",
       "      <td>0.897046</td>\n",
       "      <td>0.661805</td>\n",
       "      <td>0.664773</td>\n",
       "      <td>0.730397</td>\n",
       "      <td>1.000000</td>\n",
       "    </tr>\n",
       "  </tbody>\n",
       "</table>\n",
       "</div>"
      ],
      "text/plain": [
       "             YEAR       JAN       FEB       MAR       APR       MAY       JUN  \\\n",
       "YEAR     1.000000  0.575499  0.647066  0.553886  0.540662  0.407648  0.371840   \n",
       "JAN      0.575499  1.000000  0.647017  0.457081  0.594674  0.365236  0.292855   \n",
       "FEB      0.647066  0.647017  1.000000  0.589088  0.548803  0.377722  0.341302   \n",
       "MAR      0.553886  0.457081  0.589088  1.000000  0.618621  0.387756  0.228349   \n",
       "APR      0.540662  0.594674  0.548803  0.618621  1.000000  0.563317  0.299866   \n",
       "MAY      0.407648  0.365236  0.377722  0.387756  0.563317  1.000000  0.274521   \n",
       "JUN      0.371840  0.292855  0.341302  0.228349  0.299866  0.274521  1.000000   \n",
       "JUL      0.478512  0.339337  0.418956  0.232647  0.286052  0.299072  0.480925   \n",
       "AUG      0.654138  0.459944  0.503188  0.382344  0.490668  0.473171  0.504354   \n",
       "SEP      0.664008  0.499764  0.472755  0.370066  0.437970  0.347289  0.305761   \n",
       "OCT      0.589073  0.480695  0.466916  0.312226  0.473873  0.468993  0.380782   \n",
       "NOV      0.697887  0.526615  0.519595  0.498202  0.538037  0.482822  0.419968   \n",
       "DEC      0.732222  0.595902  0.619320  0.523316  0.579775  0.444695  0.366242   \n",
       "ANNUAL   0.801129  0.749880  0.792541  0.689205  0.770596  0.609015  0.520189   \n",
       "JAN-FEB  0.679869  0.874226  0.928731  0.584612  0.643942  0.403316  0.351115   \n",
       "MAR-MAY  0.640438  0.575734  0.635904  0.848637  0.878402  0.708221  0.341301   \n",
       "JUN-SEP  0.677061  0.496515  0.544527  0.380640  0.474542  0.431314  0.749132   \n",
       "OCT-DEC  0.749792  0.607752  0.609839  0.505879  0.596943  0.503445  0.409325   \n",
       "\n",
       "              JUL       AUG       SEP       OCT       NOV       DEC    ANNUAL  \\\n",
       "YEAR     0.478512  0.654138  0.664008  0.589073  0.697887  0.732222  0.801129   \n",
       "JAN      0.339337  0.459944  0.499764  0.480695  0.526615  0.595902  0.749880   \n",
       "FEB      0.418956  0.503188  0.472755  0.466916  0.519595  0.619320  0.792541   \n",
       "MAR      0.232647  0.382344  0.370066  0.312226  0.498202  0.523316  0.689205   \n",
       "APR      0.286052  0.490668  0.437970  0.473873  0.538037  0.579775  0.770596   \n",
       "MAY      0.299072  0.473171  0.347289  0.468993  0.482822  0.444695  0.609015   \n",
       "JUN      0.480925  0.504354  0.305761  0.380782  0.419968  0.366242  0.520189   \n",
       "JUL      1.000000  0.622985  0.531865  0.568341  0.535413  0.440813  0.588454   \n",
       "AUG      0.622985  1.000000  0.680212  0.661177  0.588961  0.595330  0.755384   \n",
       "SEP      0.531865  0.680212  1.000000  0.680744  0.683866  0.629223  0.730756   \n",
       "OCT      0.568341  0.661177  0.680744  1.000000  0.770277  0.719305  0.768170   \n",
       "NOV      0.535413  0.588961  0.683866  0.770277  1.000000  0.782075  0.812868   \n",
       "DEC      0.440813  0.595330  0.629223  0.719305  0.782075  1.000000  0.843660   \n",
       "ANNUAL   0.588454  0.755384  0.730756  0.768170  0.812868  0.843660  1.000000   \n",
       "JAN-FEB  0.423876  0.534818  0.529533  0.506640  0.568893  0.663719  0.849828   \n",
       "MAR-MAY  0.321388  0.560118  0.485397  0.522917  0.620161  0.643015  0.853277   \n",
       "JUN-SEP  0.799602  0.866202  0.778875  0.705733  0.692585  0.634747  0.810786   \n",
       "OCT-DEC  0.541023  0.665040  0.734650  0.888144  0.913522  0.922692  0.897046   \n",
       "\n",
       "          JAN-FEB   MAR-MAY   JUN-SEP   OCT-DEC  \n",
       "YEAR     0.679869  0.640438  0.677061  0.749792  \n",
       "JAN      0.874226  0.575734  0.496515  0.607752  \n",
       "FEB      0.928731  0.635904  0.544527  0.609839  \n",
       "MAR      0.584612  0.848637  0.380640  0.505879  \n",
       "APR      0.643942  0.878402  0.474542  0.596943  \n",
       "MAY      0.403316  0.708221  0.431314  0.503445  \n",
       "JUN      0.351115  0.341301  0.749132  0.409325  \n",
       "JUL      0.423876  0.321388  0.799602  0.541023  \n",
       "AUG      0.534818  0.560118  0.866202  0.665040  \n",
       "SEP      0.529533  0.485397  0.778875  0.734650  \n",
       "OCT      0.506640  0.522917  0.705733  0.888144  \n",
       "NOV      0.568893  0.620161  0.692585  0.913522  \n",
       "DEC      0.663719  0.643015  0.634747  0.922692  \n",
       "ANNUAL   0.849828  0.853277  0.810786  0.897046  \n",
       "JAN-FEB  1.000000  0.675918  0.575513  0.661805  \n",
       "MAR-MAY  0.675918  1.000000  0.534279  0.664773  \n",
       "JUN-SEP  0.575513  0.534279  1.000000  0.730397  \n",
       "OCT-DEC  0.661805  0.664773  0.730397  1.000000  "
      ]
     },
     "execution_count": 144,
     "metadata": {},
     "output_type": "execute_result"
    }
   ],
   "source": [
    "df.corr()"
   ]
  },
  {
   "cell_type": "markdown",
   "metadata": {},
   "source": [
    "As from above table we can clearly say that DEC,NOV,SEP,AUG are the 4 months which have most correlation with Year"
   ]
  },
  {
   "cell_type": "code",
   "execution_count": 172,
   "metadata": {},
   "outputs": [
    {
     "data": {
      "text/html": [
       "<div>\n",
       "<style scoped>\n",
       "    .dataframe tbody tr th:only-of-type {\n",
       "        vertical-align: middle;\n",
       "    }\n",
       "\n",
       "    .dataframe tbody tr th {\n",
       "        vertical-align: top;\n",
       "    }\n",
       "\n",
       "    .dataframe thead th {\n",
       "        text-align: right;\n",
       "    }\n",
       "</style>\n",
       "<table border=\"1\" class=\"dataframe\">\n",
       "  <thead>\n",
       "    <tr style=\"text-align: right;\">\n",
       "      <th></th>\n",
       "      <th>DEC</th>\n",
       "      <th>NOV</th>\n",
       "      <th>SEP</th>\n",
       "      <th>AUG</th>\n",
       "    </tr>\n",
       "  </thead>\n",
       "  <tbody>\n",
       "    <tr>\n",
       "      <th>0</th>\n",
       "      <td>24.49</td>\n",
       "      <td>27.31</td>\n",
       "      <td>30.47</td>\n",
       "      <td>30.39</td>\n",
       "    </tr>\n",
       "    <tr>\n",
       "      <th>1</th>\n",
       "      <td>24.04</td>\n",
       "      <td>26.31</td>\n",
       "      <td>29.80</td>\n",
       "      <td>30.73</td>\n",
       "    </tr>\n",
       "    <tr>\n",
       "      <th>2</th>\n",
       "      <td>23.65</td>\n",
       "      <td>26.08</td>\n",
       "      <td>29.85</td>\n",
       "      <td>29.98</td>\n",
       "    </tr>\n",
       "    <tr>\n",
       "      <th>3</th>\n",
       "      <td>23.63</td>\n",
       "      <td>26.36</td>\n",
       "      <td>30.04</td>\n",
       "      <td>30.09</td>\n",
       "    </tr>\n",
       "    <tr>\n",
       "      <th>4</th>\n",
       "      <td>23.82</td>\n",
       "      <td>27.52</td>\n",
       "      <td>30.12</td>\n",
       "      <td>30.68</td>\n",
       "    </tr>\n",
       "    <tr>\n",
       "      <th>...</th>\n",
       "      <td>...</td>\n",
       "      <td>...</td>\n",
       "      <td>...</td>\n",
       "      <td>...</td>\n",
       "    </tr>\n",
       "    <tr>\n",
       "      <th>112</th>\n",
       "      <td>25.37</td>\n",
       "      <td>27.83</td>\n",
       "      <td>31.04</td>\n",
       "      <td>30.76</td>\n",
       "    </tr>\n",
       "    <tr>\n",
       "      <th>113</th>\n",
       "      <td>25.08</td>\n",
       "      <td>28.05</td>\n",
       "      <td>30.68</td>\n",
       "      <td>31.32</td>\n",
       "    </tr>\n",
       "    <tr>\n",
       "      <th>114</th>\n",
       "      <td>25.67</td>\n",
       "      <td>28.10</td>\n",
       "      <td>31.55</td>\n",
       "      <td>31.52</td>\n",
       "    </tr>\n",
       "    <tr>\n",
       "      <th>115</th>\n",
       "      <td>28.01</td>\n",
       "      <td>30.11</td>\n",
       "      <td>31.66</td>\n",
       "      <td>31.79</td>\n",
       "    </tr>\n",
       "    <tr>\n",
       "      <th>116</th>\n",
       "      <td>27.18</td>\n",
       "      <td>29.60</td>\n",
       "      <td>32.22</td>\n",
       "      <td>31.72</td>\n",
       "    </tr>\n",
       "  </tbody>\n",
       "</table>\n",
       "<p>117 rows × 4 columns</p>\n",
       "</div>"
      ],
      "text/plain": [
       "       DEC    NOV    SEP    AUG\n",
       "0    24.49  27.31  30.47  30.39\n",
       "1    24.04  26.31  29.80  30.73\n",
       "2    23.65  26.08  29.85  29.98\n",
       "3    23.63  26.36  30.04  30.09\n",
       "4    23.82  27.52  30.12  30.68\n",
       "..     ...    ...    ...    ...\n",
       "112  25.37  27.83  31.04  30.76\n",
       "113  25.08  28.05  30.68  31.32\n",
       "114  25.67  28.10  31.55  31.52\n",
       "115  28.01  30.11  31.66  31.79\n",
       "116  27.18  29.60  32.22  31.72\n",
       "\n",
       "[117 rows x 4 columns]"
      ]
     },
     "execution_count": 172,
     "metadata": {},
     "output_type": "execute_result"
    }
   ],
   "source": [
    "y=df[['DEC','NOV','SEP','AUG']]\n",
    "y"
   ]
  },
  {
   "cell_type": "code",
   "execution_count": 173,
   "metadata": {},
   "outputs": [],
   "source": [
    "from sklearn.model_selection import train_test_split"
   ]
  },
  {
   "cell_type": "code",
   "execution_count": 174,
   "metadata": {},
   "outputs": [],
   "source": [
    "x_train, x_test, y_train, y_test = train_test_split(df.iloc[:, : 1], y, test_size = 0.25)"
   ]
  },
  {
   "cell_type": "code",
   "execution_count": 175,
   "metadata": {},
   "outputs": [
    {
     "data": {
      "text/html": [
       "<div>\n",
       "<style scoped>\n",
       "    .dataframe tbody tr th:only-of-type {\n",
       "        vertical-align: middle;\n",
       "    }\n",
       "\n",
       "    .dataframe tbody tr th {\n",
       "        vertical-align: top;\n",
       "    }\n",
       "\n",
       "    .dataframe thead th {\n",
       "        text-align: right;\n",
       "    }\n",
       "</style>\n",
       "<table border=\"1\" class=\"dataframe\">\n",
       "  <thead>\n",
       "    <tr style=\"text-align: right;\">\n",
       "      <th></th>\n",
       "      <th>DEC</th>\n",
       "      <th>NOV</th>\n",
       "      <th>SEP</th>\n",
       "      <th>AUG</th>\n",
       "    </tr>\n",
       "  </thead>\n",
       "  <tbody>\n",
       "    <tr>\n",
       "      <th>50</th>\n",
       "      <td>25.13</td>\n",
       "      <td>27.66</td>\n",
       "      <td>31.03</td>\n",
       "      <td>30.52</td>\n",
       "    </tr>\n",
       "    <tr>\n",
       "      <th>88</th>\n",
       "      <td>24.67</td>\n",
       "      <td>27.77</td>\n",
       "      <td>30.73</td>\n",
       "      <td>30.65</td>\n",
       "    </tr>\n",
       "    <tr>\n",
       "      <th>1</th>\n",
       "      <td>24.04</td>\n",
       "      <td>26.31</td>\n",
       "      <td>29.80</td>\n",
       "      <td>30.73</td>\n",
       "    </tr>\n",
       "    <tr>\n",
       "      <th>90</th>\n",
       "      <td>24.86</td>\n",
       "      <td>27.30</td>\n",
       "      <td>30.97</td>\n",
       "      <td>30.64</td>\n",
       "    </tr>\n",
       "    <tr>\n",
       "      <th>32</th>\n",
       "      <td>24.73</td>\n",
       "      <td>27.05</td>\n",
       "      <td>29.49</td>\n",
       "      <td>29.31</td>\n",
       "    </tr>\n",
       "    <tr>\n",
       "      <th>...</th>\n",
       "      <td>...</td>\n",
       "      <td>...</td>\n",
       "      <td>...</td>\n",
       "      <td>...</td>\n",
       "    </tr>\n",
       "    <tr>\n",
       "      <th>89</th>\n",
       "      <td>25.16</td>\n",
       "      <td>27.72</td>\n",
       "      <td>30.67</td>\n",
       "      <td>30.69</td>\n",
       "    </tr>\n",
       "    <tr>\n",
       "      <th>8</th>\n",
       "      <td>23.69</td>\n",
       "      <td>27.69</td>\n",
       "      <td>30.06</td>\n",
       "      <td>29.81</td>\n",
       "    </tr>\n",
       "    <tr>\n",
       "      <th>38</th>\n",
       "      <td>24.85</td>\n",
       "      <td>26.94</td>\n",
       "      <td>30.54</td>\n",
       "      <td>30.47</td>\n",
       "    </tr>\n",
       "    <tr>\n",
       "      <th>95</th>\n",
       "      <td>24.83</td>\n",
       "      <td>27.61</td>\n",
       "      <td>30.86</td>\n",
       "      <td>30.23</td>\n",
       "    </tr>\n",
       "    <tr>\n",
       "      <th>7</th>\n",
       "      <td>23.73</td>\n",
       "      <td>26.88</td>\n",
       "      <td>29.59</td>\n",
       "      <td>29.55</td>\n",
       "    </tr>\n",
       "  </tbody>\n",
       "</table>\n",
       "<p>87 rows × 4 columns</p>\n",
       "</div>"
      ],
      "text/plain": [
       "      DEC    NOV    SEP    AUG\n",
       "50  25.13  27.66  31.03  30.52\n",
       "88  24.67  27.77  30.73  30.65\n",
       "1   24.04  26.31  29.80  30.73\n",
       "90  24.86  27.30  30.97  30.64\n",
       "32  24.73  27.05  29.49  29.31\n",
       "..    ...    ...    ...    ...\n",
       "89  25.16  27.72  30.67  30.69\n",
       "8   23.69  27.69  30.06  29.81\n",
       "38  24.85  26.94  30.54  30.47\n",
       "95  24.83  27.61  30.86  30.23\n",
       "7   23.73  26.88  29.59  29.55\n",
       "\n",
       "[87 rows x 4 columns]"
      ]
     },
     "execution_count": 175,
     "metadata": {},
     "output_type": "execute_result"
    }
   ],
   "source": [
    "y_train"
   ]
  },
  {
   "cell_type": "code",
   "execution_count": 176,
   "metadata": {},
   "outputs": [],
   "source": [
    "from sklearn.linear_model import LinearRegression"
   ]
  },
  {
   "cell_type": "code",
   "execution_count": 150,
   "metadata": {},
   "outputs": [],
   "source": [
    "LR = LinearRegression()"
   ]
  },
  {
   "cell_type": "markdown",
   "metadata": {},
   "source": [
    "### Regression For December Month "
   ]
  },
  {
   "cell_type": "code",
   "execution_count": 151,
   "metadata": {},
   "outputs": [
    {
     "data": {
      "text/plain": [
       "LinearRegression()"
      ]
     },
     "execution_count": 151,
     "metadata": {},
     "output_type": "execute_result"
    }
   ],
   "source": [
    "LR.fit(x_train, np.array(y_train['DEC']).reshape(-1, 1))"
   ]
  },
  {
   "cell_type": "code",
   "execution_count": 152,
   "metadata": {},
   "outputs": [
    {
     "name": "stdout",
     "output_type": "stream",
     "text": [
      "Slope:  [[0.01658595]]\n",
      "Intercept:  [-7.86296854]\n"
     ]
    }
   ],
   "source": [
    "slopeDEC = LR.coef_\n",
    "interceptDEC = LR.intercept_\n",
    "print(\"Slope: \", slopeDEC)\n",
    "print(\"Intercept: \", interceptDEC)"
   ]
  },
  {
   "cell_type": "code",
   "execution_count": 153,
   "metadata": {},
   "outputs": [
    {
     "data": {
      "text/plain": [
       "Text(0.5, 1.0, 'Temperature')"
      ]
     },
     "execution_count": 153,
     "metadata": {},
     "output_type": "execute_result"
    },
    {
     "data": {
      "image/png": "[encoded data removed]",
      "text/plain": [
       "<Figure size 432x288 with 1 Axes>"
      ]
     },
     "metadata": {
      "needs_background": "light"
     },
     "output_type": "display_data"
    }
   ],
   "source": [
    "plt.scatter(x_train, y_train['DEC'], c = 'yellow')\n",
    "plt.plot(x_train, (interceptDEC + slopeDEC * x_train), c = 'purple')\n",
    "plt.xlabel(\"Year\")\n",
    "plt.ylabel(\"December\")\n",
    "plt.title(\"Temperature\")"
   ]
  },
  {
   "cell_type": "code",
   "execution_count": 154,
   "metadata": {},
   "outputs": [
    {
     "data": {
      "text/plain": [
       "array([[25.59089275],\n",
       "       [24.2142589 ],\n",
       "       [23.79961014],\n",
       "       [24.6786655 ],\n",
       "       [25.02697045],\n",
       "       [23.88253989],\n",
       "       [24.33036055],\n",
       "       [23.9488837 ],\n",
       "       [24.8776969 ],\n",
       "       [23.86595394],\n",
       "       [24.3137746 ],\n",
       "       [24.46304815],\n",
       "       [25.3421035 ],\n",
       "       [24.23084485],\n",
       "       [25.2757597 ],\n",
       "       [23.76643824],\n",
       "       [24.39670435],\n",
       "       [24.4796341 ],\n",
       "       [24.82793905],\n",
       "       [23.74985229],\n",
       "       [25.52454895],\n",
       "       [24.69525145],\n",
       "       [24.9440407 ],\n",
       "       [23.96546965],\n",
       "       [24.26401675],\n",
       "       [25.2425878 ],\n",
       "       [23.68350849],\n",
       "       [24.06498535],\n",
       "       [24.92745475],\n",
       "       [24.0483994 ]])"
      ]
     },
     "execution_count": 154,
     "metadata": {},
     "output_type": "execute_result"
    }
   ],
   "source": [
    "y_predict=LR.predict(x_test)\n",
    "y_predict"
   ]
  },
  {
   "cell_type": "code",
   "execution_count": 155,
   "metadata": {},
   "outputs": [],
   "source": [
    "from sklearn import metrics"
   ]
  },
  {
   "cell_type": "code",
   "execution_count": 156,
   "metadata": {},
   "outputs": [
    {
     "name": "stdout",
     "output_type": "stream",
     "text": [
      "MAE: 0.43439213603770077\n",
      "MSE: 0.32797777335146794\n",
      "RMSE: 0.5726934374964218\n",
      "R-Squared: 0.49998552364003834\n"
     ]
    }
   ],
   "source": [
    "MAE = metrics.mean_absolute_error(y_test['DEC'], y_predict)\n",
    "MSE = metrics.mean_squared_error(y_test['DEC'], y_predict)\n",
    "RMSE = np.sqrt(MSE) \n",
    "R2_Score = metrics.r2_score(y_test['DEC'],y_predict)\n",
    "print(\"MAE:\",MAE)\n",
    "print(\"MSE:\", MSE)\n",
    "print(\"RMSE:\", RMSE)\n",
    "print(\"R-Squared:\", R2_Score)"
   ]
  },
  {
   "cell_type": "markdown",
   "metadata": {},
   "source": [
    "### Regression for November Month"
   ]
  },
  {
   "cell_type": "code",
   "execution_count": 157,
   "metadata": {},
   "outputs": [
    {
     "data": {
      "text/plain": [
       "LinearRegression()"
      ]
     },
     "execution_count": 157,
     "metadata": {},
     "output_type": "execute_result"
    }
   ],
   "source": [
    "LR.fit(x_train, np.array(y_train['NOV']).reshape(-1, 1))"
   ]
  },
  {
   "cell_type": "code",
   "execution_count": 158,
   "metadata": {},
   "outputs": [
    {
     "name": "stdout",
     "output_type": "stream",
     "text": [
      "Slope:  [[0.01511657]]\n",
      "Intercept:  [-2.36049482]\n"
     ]
    }
   ],
   "source": [
    "slopeNOV = LR.coef_\n",
    "interceptNOV = LR.intercept_\n",
    "print(\"Slope: \", slopeNOV)\n",
    "print(\"Intercept: \", interceptNOV)"
   ]
  },
  {
   "cell_type": "code",
   "execution_count": 159,
   "metadata": {},
   "outputs": [
    {
     "data": {
      "text/plain": [
       "Text(0.5, 1.0, 'Temperature')"
      ]
     },
     "execution_count": 159,
     "metadata": {},
     "output_type": "execute_result"
    },
    {
     "data": {
      "image/png": "[encoded data removed]",
      "text/plain": [
       "<Figure size 432x288 with 1 Axes>"
      ]
     },
     "metadata": {
      "needs_background": "light"
     },
     "output_type": "display_data"
    }
   ],
   "source": [
    "plt.scatter(x_train, y_train['NOV'], c = 'yellow')\n",
    "plt.plot(x_train, (interceptNOV + slopeNOV * x_train), c = 'purple')\n",
    "plt.xlabel(\"Year\")\n",
    "plt.ylabel(\"November\")\n",
    "plt.title(\"Temperature\")"
   ]
  },
  {
   "cell_type": "code",
   "execution_count": 160,
   "metadata": {},
   "outputs": [
    {
     "data": {
      "text/plain": [
       "array([[28.12962018],\n",
       "       [26.87494514],\n",
       "       [26.49703098],\n",
       "       [27.29820901],\n",
       "       [27.61565691],\n",
       "       [26.57261381],\n",
       "       [26.98076111],\n",
       "       [26.63308008],\n",
       "       [27.47960781],\n",
       "       [26.55749724],\n",
       "       [26.96564454],\n",
       "       [27.10169364],\n",
       "       [27.90287168],\n",
       "       [26.89006171],\n",
       "       [27.84240541],\n",
       "       [26.46679784],\n",
       "       [27.04122738],\n",
       "       [27.11681021],\n",
       "       [27.43425811],\n",
       "       [26.45168128],\n",
       "       [28.06915391],\n",
       "       [27.31332558],\n",
       "       [27.54007408],\n",
       "       [26.64819664],\n",
       "       [26.92029484],\n",
       "       [27.81217228],\n",
       "       [26.39121501],\n",
       "       [26.73889604],\n",
       "       [27.52495751],\n",
       "       [26.72377948]])"
      ]
     },
     "execution_count": 160,
     "metadata": {},
     "output_type": "execute_result"
    }
   ],
   "source": [
    "y_predict=LR.predict(x_test)\n",
    "y_predict"
   ]
  },
  {
   "cell_type": "code",
   "execution_count": 161,
   "metadata": {},
   "outputs": [
    {
     "name": "stdout",
     "output_type": "stream",
     "text": [
      "MAE: 0.4223848985941783\n",
      "MSE: 0.33025634195251447\n",
      "RMSE: 0.5746793383727263\n",
      "R-Squared: 0.40198217246512424\n"
     ]
    }
   ],
   "source": [
    "MAE = metrics.mean_absolute_error(y_test['NOV'], y_predict)\n",
    "MSE = metrics.mean_squared_error(y_test['NOV'], y_predict)\n",
    "RMSE = np.sqrt(MSE)\n",
    "R2_Score = metrics.r2_score(y_test['NOV'],y_predict)\n",
    "print(\"MAE:\",MAE)\n",
    "print(\"MSE:\", MSE)\n",
    "print(\"RMSE:\", RMSE)\n",
    "print(\"R-Squared:\", R2_Score)"
   ]
  },
  {
   "cell_type": "markdown",
   "metadata": {},
   "source": [
    "### Regression for September Month "
   ]
  },
  {
   "cell_type": "code",
   "execution_count": 162,
   "metadata": {},
   "outputs": [
    {
     "data": {
      "text/plain": [
       "LinearRegression()"
      ]
     },
     "execution_count": 162,
     "metadata": {},
     "output_type": "execute_result"
    }
   ],
   "source": [
    "LR.fit(x_train, np.array(y_train['SEP']).reshape(-1, 1))"
   ]
  },
  {
   "cell_type": "code",
   "execution_count": 163,
   "metadata": {},
   "outputs": [
    {
     "name": "stdout",
     "output_type": "stream",
     "text": [
      "Slope:  [[0.01065898]]\n",
      "Intercept:  [9.59863422]\n"
     ]
    }
   ],
   "source": [
    "slopeSEP = LR.coef_\n",
    "interceptSEP = LR.intercept_\n",
    "print(\"Slope: \", slopeSEP)\n",
    "print(\"Intercept: \", interceptSEP)"
   ]
  },
  {
   "cell_type": "code",
   "execution_count": 164,
   "metadata": {},
   "outputs": [
    {
     "data": {
      "text/plain": [
       "Text(0.5, 1.0, 'Temperature')"
      ]
     },
     "execution_count": 164,
     "metadata": {},
     "output_type": "execute_result"
    },
    {
     "data": {
      "image/png": "[encoded data removed]",
      "text/plain": [
       "<Figure size 432x288 with 1 Axes>"
      ]
     },
     "metadata": {
      "needs_background": "light"
     },
     "output_type": "display_data"
    }
   ],
   "source": [
    "plt.scatter(x_train, y_train['SEP'], c = 'yellow')\n",
    "plt.plot(x_train, (interceptSEP + slopeSEP * x_train), c = 'purple')\n",
    "plt.xlabel(\"Year\")\n",
    "plt.ylabel(\"September\")\n",
    "plt.title(\"Temperature\")"
   ]
  },
  {
   "cell_type": "code",
   "execution_count": 165,
   "metadata": {},
   "outputs": [
    {
     "data": {
      "text/plain": [
       "array([[31.09780016],\n",
       "       [30.21310469],\n",
       "       [29.94663015],\n",
       "       [30.51155617],\n",
       "       [30.73539479],\n",
       "       [29.99992506],\n",
       "       [30.28771756],\n",
       "       [30.04256098],\n",
       "       [30.63946395],\n",
       "       [29.98926607],\n",
       "       [30.27705858],\n",
       "       [30.37298941],\n",
       "       [30.93791544],\n",
       "       [30.22376367],\n",
       "       [30.89527951],\n",
       "       [29.92531218],\n",
       "       [30.33035349],\n",
       "       [30.38364839],\n",
       "       [30.60748701],\n",
       "       [29.9146532 ],\n",
       "       [31.05516424],\n",
       "       [30.52221516],\n",
       "       [30.68209988],\n",
       "       [30.05321996],\n",
       "       [30.24508163],\n",
       "       [30.87396155],\n",
       "       [29.87201728],\n",
       "       [30.11717385],\n",
       "       [30.6714409 ],\n",
       "       [30.10651487]])"
      ]
     },
     "execution_count": 165,
     "metadata": {},
     "output_type": "execute_result"
    }
   ],
   "source": [
    "y_predict=LR.predict(x_test)\n",
    "y_predict"
   ]
  },
  {
   "cell_type": "code",
   "execution_count": 166,
   "metadata": {},
   "outputs": [
    {
     "name": "stdout",
     "output_type": "stream",
     "text": [
      "MAE: 0.2932587257942269\n",
      "MSE: 0.18653540728256288\n",
      "RMSE: 0.4318974499607087\n",
      "R-Squared: 0.41678139531691016\n"
     ]
    }
   ],
   "source": [
    "MAE = metrics.mean_absolute_error(y_test['SEP'], y_predict)\n",
    "MSE = metrics.mean_squared_error(y_test['SEP'], y_predict)\n",
    "RMSE = np.sqrt(MSE)  \n",
    "R2_Score = metrics.r2_score(y_test['SEP'],y_predict)\n",
    "print(\"MAE:\",MAE)\n",
    "print(\"MSE:\", MSE)\n",
    "print(\"RMSE:\", RMSE)\n",
    "print(\"R-Squared:\", R2_Score)"
   ]
  },
  {
   "cell_type": "markdown",
   "metadata": {},
   "source": [
    "### Regression for August Month "
   ]
  },
  {
   "cell_type": "code",
   "execution_count": 167,
   "metadata": {},
   "outputs": [
    {
     "data": {
      "text/plain": [
       "LinearRegression()"
      ]
     },
     "execution_count": 167,
     "metadata": {},
     "output_type": "execute_result"
    }
   ],
   "source": [
    "LR.fit(x_train, np.array(y_train['AUG']).reshape(-1, 1))"
   ]
  },
  {
   "cell_type": "code",
   "execution_count": 168,
   "metadata": {},
   "outputs": [
    {
     "name": "stdout",
     "output_type": "stream",
     "text": [
      "Slope:  [[0.00957009]]\n",
      "Intercept:  [11.75121086]\n"
     ]
    }
   ],
   "source": [
    "slopeAUG = LR.coef_\n",
    "interceptAUG = LR.intercept_\n",
    "print(\"Slope: \", slopeAUG)\n",
    "print(\"Intercept: \", interceptAUG)"
   ]
  },
  {
   "cell_type": "code",
   "execution_count": 169,
   "metadata": {},
   "outputs": [
    {
     "data": {
      "text/plain": [
       "Text(0.5, 1.0, 'Temperature')"
      ]
     },
     "execution_count": 169,
     "metadata": {},
     "output_type": "execute_result"
    },
    {
     "data": {
      "image/png": "[encoded data removed]",
      "text/plain": [
       "<Figure size 432x288 with 1 Axes>"
      ]
     },
     "metadata": {
      "needs_background": "light"
     },
     "output_type": "display_data"
    }
   ],
   "source": [
    "plt.scatter(x_train, y_train['AUG'], c = 'yellow')\n",
    "plt.plot(x_train, (interceptAUG + slopeAUG * x_train), c = 'purple')\n",
    "plt.xlabel(\"Year\")\n",
    "plt.ylabel(\"August\")\n",
    "plt.title(\"Temperature\")"
   ]
  },
  {
   "cell_type": "code",
   "execution_count": 170,
   "metadata": {},
   "outputs": [
    {
     "data": {
      "text/plain": [
       "array([[31.05409092],\n",
       "       [30.2597731 ],\n",
       "       [30.02052075],\n",
       "       [30.52773574],\n",
       "       [30.72870772],\n",
       "       [30.06837122],\n",
       "       [30.32676376],\n",
       "       [30.10665159],\n",
       "       [30.64257687],\n",
       "       [30.05880112],\n",
       "       [30.31719367],\n",
       "       [30.40332451],\n",
       "       [30.91053951],\n",
       "       [30.2693432 ],\n",
       "       [30.87225913],\n",
       "       [30.00138056],\n",
       "       [30.36504414],\n",
       "       [30.41289461],\n",
       "       [30.61386659],\n",
       "       [29.99181046],\n",
       "       [31.01581055],\n",
       "       [30.53730583],\n",
       "       [30.68085725],\n",
       "       [30.11622169],\n",
       "       [30.28848338],\n",
       "       [30.85311894],\n",
       "       [29.95353009],\n",
       "       [30.17364225],\n",
       "       [30.67128715],\n",
       "       [30.16407216]])"
      ]
     },
     "execution_count": 170,
     "metadata": {},
     "output_type": "execute_result"
    }
   ],
   "source": [
    "y_predict=LR.predict(x_test)\n",
    "y_predict"
   ]
  },
  {
   "cell_type": "code",
   "execution_count": 171,
   "metadata": {},
   "outputs": [
    {
     "name": "stdout",
     "output_type": "stream",
     "text": [
      "MAE: 0.2998910725258674\n",
      "MSE: 0.1354444400163243\n",
      "RMSE: 0.3680277707134671\n",
      "R-Squared: 0.3594176848298555\n"
     ]
    }
   ],
   "source": [
    "MAE = metrics.mean_absolute_error(y_test['AUG'], y_predict)\n",
    "MSE = metrics.mean_squared_error(y_test['AUG'], y_predict)\n",
    "RMSE = np.sqrt(MSE)  \n",
    "R2_Score = metrics.r2_score(y_test['AUG'],y_predict)\n",
    "print(\"MAE:\",MAE)\n",
    "print(\"MSE:\", MSE)\n",
    "print(\"RMSE:\", RMSE)\n",
    "print(\"R-Squared:\", R2_Score)"
   ]
  },
  {
   "cell_type": "markdown",
   "metadata": {},
   "source": [
    "### Regression For Annual "
   ]
  },
  {
   "cell_type": "code",
   "execution_count": 177,
   "metadata": {},
   "outputs": [
    {
     "data": {
      "text/plain": [
       "0      28.96\n",
       "1      29.22\n",
       "2      28.47\n",
       "3      28.49\n",
       "4      28.30\n",
       "       ...  \n",
       "112    29.81\n",
       "113    29.72\n",
       "114    29.90\n",
       "115    31.63\n",
       "116    31.42\n",
       "Name: ANNUAL, Length: 117, dtype: float64"
      ]
     },
     "execution_count": 177,
     "metadata": {},
     "output_type": "execute_result"
    }
   ],
   "source": [
    "yAnnual=df['ANNUAL']\n",
    "yAnnual"
   ]
  },
  {
   "cell_type": "code",
   "execution_count": 178,
   "metadata": {},
   "outputs": [],
   "source": [
    "x_train, x_test, y_train, y_test = train_test_split(df.iloc[:, : 1], yAnnual, test_size = 0.25)"
   ]
  },
  {
   "cell_type": "code",
   "execution_count": 179,
   "metadata": {},
   "outputs": [
    {
     "data": {
      "text/plain": [
       "LinearRegression()"
      ]
     },
     "execution_count": 179,
     "metadata": {},
     "output_type": "execute_result"
    }
   ],
   "source": [
    "LR.fit(x_train, np.array(y_train).reshape(-1, 1))"
   ]
  },
  {
   "cell_type": "code",
   "execution_count": 180,
   "metadata": {},
   "outputs": [
    {
     "name": "stdout",
     "output_type": "stream",
     "text": [
      "Slope:  [[0.01283549]]\n",
      "Intercept:  [4.04691579]\n"
     ]
    }
   ],
   "source": [
    "slopeAnnual = LR.coef_\n",
    "interceptAnnual = LR.intercept_\n",
    "print(\"Slope: \", slopeAnnual)\n",
    "print(\"Intercept: \", interceptAnnual)"
   ]
  },
  {
   "cell_type": "code",
   "execution_count": 181,
   "metadata": {},
   "outputs": [
    {
     "data": {
      "text/plain": [
       "Text(0.5, 1.0, 'Temperature')"
      ]
     },
     "execution_count": 181,
     "metadata": {},
     "output_type": "execute_result"
    },
    {
     "data": {
      "image/png": "[encoded data removed]",
      "text/plain": [
       "<Figure size 432x288 with 1 Axes>"
      ]
     },
     "metadata": {
      "needs_background": "light"
     },
     "output_type": "display_data"
    }
   ],
   "source": [
    "plt.scatter(x_train, y_train, c = 'yellow')\n",
    "plt.plot(x_train, (interceptAnnual + slopeAnnual * x_train), c = 'purple')\n",
    "plt.xlabel(\"Year\")\n",
    "plt.ylabel(\"Annual\")\n",
    "plt.title(\"Temperature\")"
   ]
  },
  {
   "cell_type": "code",
   "execution_count": 182,
   "metadata": {},
   "outputs": [
    {
     "data": {
      "text/plain": [
       "array([[28.81940963],\n",
       "       [28.89642257],\n",
       "       [29.71789386],\n",
       "       [29.14029686],\n",
       "       [29.76923582],\n",
       "       [28.54986436],\n",
       "       [29.42267762],\n",
       "       [29.62804544],\n",
       "       [29.25581626],\n",
       "       [29.51252604],\n",
       "       [29.83341327],\n",
       "       [28.60120632],\n",
       "       [28.61404181],\n",
       "       [29.57670348],\n",
       "       [29.46118408],\n",
       "       [29.01194197],\n",
       "       [28.65254827],\n",
       "       [28.72956121],\n",
       "       [28.6268773 ],\n",
       "       [29.64088093],\n",
       "       [29.85908424],\n",
       "       [29.10179039],\n",
       "       [29.53819702],\n",
       "       [28.57553534],\n",
       "       [28.8579161 ],\n",
       "       [28.66538376],\n",
       "       [28.98627099],\n",
       "       [28.47285143],\n",
       "       [29.74356484],\n",
       "       [28.96060001]])"
      ]
     },
     "execution_count": 182,
     "metadata": {},
     "output_type": "execute_result"
    }
   ],
   "source": [
    "y_predict=LR.predict(x_test)\n",
    "y_predict"
   ]
  },
  {
   "cell_type": "code",
   "execution_count": 183,
   "metadata": {},
   "outputs": [
    {
     "name": "stdout",
     "output_type": "stream",
     "text": [
      "MAE: 0.1843977574305028\n",
      "MSE: 0.061853127034294506\n",
      "RMSE: 0.24870288907508595\n",
      "R-Squared: 0.789610125373913\n"
     ]
    }
   ],
   "source": [
    "MAE = metrics.mean_absolute_error(y_test, y_predict)\n",
    "MSE = metrics.mean_squared_error(y_test, y_predict)\n",
    "RMSE = np.sqrt(MSE)  \n",
    "R2_Score = metrics.r2_score(y_test,y_predict)\n",
    "print(\"MAE:\",MAE)\n",
    "print(\"MSE:\", MSE)\n",
    "print(\"RMSE:\", RMSE)\n",
    "print(\"R-Squared:\", R2_Score)"
   ]
  }
 ],
 "metadata": {
  "kernelspec": {
   "display_name": "Python 3",
   "language": "python",
   "name": "python3"
  },
  "language_info": {
   "codemirror_mode": {
    "name": "ipython",
    "version": 3
   },
   "file_extension": ".py",
   "mimetype": "text/x-python",
   "name": "python",
   "nbconvert_exporter": "python",
   "pygments_lexer": "ipython3",
   "version": "3.8.3"
  }
 },
 "nbformat": 4,
 "nbformat_minor": 5
}
